{
 "cells": [
  {
   "cell_type": "markdown",
   "metadata": {
    "deletable": true,
    "editable": true,
    "slideshow": {
     "slide_type": "skip"
    }
   },
   "source": [
    "<style>\n",
    "div.cell, div.text_cell_render{\n",
    "  max-width:750px;\n",
    "  margin-left:auto;\n",
    "  margin-right:auto;\n",
    "}\n",
    "\n",
    ".rendered_html\n",
    "{\n",
    "  font-size: 140%;\n",
    "  }\n",
    "\n",
    ".rendered_html li\n",
    "{\n",
    "  line-height: 1.8;\n",
    "  }\n",
    "\n",
    ".rendered_html h1, h2 {\n",
    "  text-align:center;\n",
    "  font-familly:\"Charis SIL\", serif;\n",
    "}\n",
    "\n",
    ".input_prompt, .CodeMirror-lines, .output_area\n",
    "{\n",
    "  font-family: Consolas;\n",
    "  font-size: 110%;\n",
    "  }\n",
    "</style>"
   ]
  },
  {
   "cell_type": "markdown",
   "metadata": {
    "deletable": true,
    "editable": true,
    "slideshow": {
     "slide_type": "slide"
    }
   },
   "source": [
    "# Numpy tutorial\n",
    "\n",
    "This notebook is practice from http://www.scipy-lectures.org/intro/numpy/index.html\n",
    "\n",
    "## advantage than python builtin types\n",
    "* extension package to Python for multi-dimensional arrays\n",
    "* closer to hardware (efficiency)\n",
    "* designed for scientific computation (convenience)\n",
    "* Also known as array oriented computing"
   ]
  },
  {
   "cell_type": "code",
   "execution_count": 1,
   "metadata": {
    "collapsed": false,
    "deletable": true,
    "editable": true,
    "slideshow": {
     "slide_type": "fragment"
    }
   },
   "outputs": [
    {
     "name": "stdout",
     "output_type": "stream",
     "text": [
      "1.12.0\n"
     ]
    }
   ],
   "source": [
    "# check the IPython version\n",
    "import numpy as np\n",
    "print np.__version__"
   ]
  },
  {
   "cell_type": "markdown",
   "metadata": {
    "deletable": true,
    "editable": true,
    "slideshow": {
     "slide_type": "slide"
    }
   },
   "source": [
    "## Initialization"
   ]
  },
  {
   "cell_type": "code",
   "execution_count": 18,
   "metadata": {
    "collapsed": false,
    "deletable": true,
    "editable": true,
    "slideshow": {
     "slide_type": "fragment"
    }
   },
   "outputs": [
    {
     "name": "stdout",
     "output_type": "stream",
     "text": [
      "[0 1 2 3]\n",
      "shape: (4L,) ndim: 1 len: 4\n",
      "[[0 1 2]\n",
      " [3 4 5]]\n",
      "shape: (2L, 3L) ndim: 2 len: 2\n",
      "[[[1]\n",
      "  [2]]\n",
      "\n",
      " [[3]\n",
      "  [4]]]\n",
      "shape: (2L, 2L, 1L) ndim: 3 len: 2\n"
     ]
    }
   ],
   "source": [
    "# from python array\n",
    "a = np.array([0, 1, 2, 3])\n",
    "print a\n",
    "print \"shape:\",a.shape, 'ndim:', a.ndim, 'len:', len(a)\n",
    "\n",
    "# 2D\n",
    "b = np.array([[0, 1, 2], [3, 4, 5]]) \n",
    "print b\n",
    "print \"shape:\",b.shape, 'ndim:', b.ndim, 'len:', len(b)\n",
    "\n",
    "# 3D\n",
    "c = np.array([[[1], [2]], [[3], [4]]])\n",
    "print c\n",
    "print \"shape:\", c.shape, 'ndim:', c.ndim, 'len:', len(c)"
   ]
  },
  {
   "cell_type": "code",
   "execution_count": 25,
   "metadata": {
    "collapsed": false
   },
   "outputs": [
    {
     "name": "stdout",
     "output_type": "stream",
     "text": [
      "Evenly spaced:\n",
      "[0 1 2 3 4 5 6 7 8 9]\n",
      "[1 3 5 7]\n",
      "by number of points:\n",
      "[ 0.   0.2  0.4  0.6  0.8  1. ]\n",
      "[ 0.   0.2  0.4  0.6  0.8]\n",
      "Common arrays:\n",
      "ones\n",
      "[[ 1.  1.  1.]\n",
      " [ 1.  1.  1.]\n",
      " [ 1.  1.  1.]]\n",
      "zeros\n",
      "[[ 0.  0.]\n",
      " [ 0.  0.]]\n",
      "eye\n",
      "[[ 1.  0.  0.]\n",
      " [ 0.  1.  0.]\n",
      " [ 0.  0.  1.]]\n",
      "diagnal\n",
      "[[1 0 0 0]\n",
      " [0 2 0 0]\n",
      " [0 0 3 0]\n",
      " [0 0 0 4]]\n"
     ]
    }
   ],
   "source": [
    "# np.arange\n",
    "!echo Evenly spaced:\n",
    "print np.arange(10) # 0 .. n-1  (!)\n",
    "print np.arange(1, 9, 2) # start, end (exclusive), step\n",
    "\n",
    "!echo by number of points:\n",
    "print np.linspace(0, 1, 6)   # start, end, num-points\n",
    "print np.linspace(0, 1, 5, endpoint=False)\n",
    "\n",
    "!echo Common arrays:\n",
    "print \"ones\\n\", np.ones((3, 3))  # reminder: (3, 3) is a tuple\n",
    "print \"zeros\\n\", np.zeros((2, 2))\n",
    "print \"eye\\n\", np.eye(3)\n",
    "print \"diagnal\\n\", np.diag(np.array([1, 2, 3, 4]))"
   ]
  },
  {
   "cell_type": "code",
   "execution_count": 32,
   "metadata": {
    "collapsed": false,
    "deletable": true,
    "editable": true,
    "scrolled": true,
    "slideshow": {
     "slide_type": "fragment"
    }
   },
   "outputs": [
    {
     "name": "stdout",
     "output_type": "stream",
     "text": [
      "random\n",
      "random 4 float in [0,1]: [ 0.19151945  0.62210877  0.43772774  0.78535858]\n",
      "random int in [1,100] with size 10: [16 50 24 27 31 44 31 27 59 93]\n",
      "random 4 float in Gaussian [ 1.15003572  0.99194602  0.95332413 -2.02125482]\n",
      "random seed None\n"
     ]
    }
   ],
   "source": [
    "!echo random\n",
    "print \"random 4 float in [0,1]:\", np.random.rand(4)\n",
    "print \"random int in [1,100] with size 10:\", np.random.randint(1, 100, 10)\n",
    "print \"random 4 float in Gaussian\", np.random.randn(4)\n",
    "print \"random seed\", np.random.seed(1234)   "
   ]
  },
  {
   "cell_type": "markdown",
   "metadata": {
    "deletable": true,
    "editable": true,
    "slideshow": {
     "slide_type": "slide"
    }
   },
   "source": [
    "### data type\n",
    "* default float64"
   ]
  },
  {
   "cell_type": "code",
   "execution_count": 37,
   "metadata": {
    "collapsed": false
   },
   "outputs": [
    {
     "name": "stdout",
     "output_type": "stream",
     "text": [
      "int32\n",
      "float64\n",
      "bool\n",
      "|S7\n"
     ]
    }
   ],
   "source": [
    "print np.array([1, 2, 3]).dtype\n",
    "print np.array([1., 2., 3.]).dtype\n",
    "print np.array([True, False, False, True]).dtype\n",
    "print np.array(['Bonjour', 'Hello', 'Hallo',]).dtype"
   ]
  },
  {
   "cell_type": "markdown",
   "metadata": {},
   "source": [
    "### Indexing and slicing"
   ]
  },
  {
   "cell_type": "code",
   "execution_count": 57,
   "metadata": {
    "collapsed": false
   },
   "outputs": [
    {
     "name": "stdout",
     "output_type": "stream",
     "text": [
      "[0 1 2 3 4 5 6 7 8 9]\n",
      "index the same way as other Python sequences: 0 2 9\n",
      "The usual python slicing works too: [2 5 8]\n",
      "The usual python idiom for reversing a sequence is supported: [9 8 7 6 5 4 3 2 1 0]\n",
      "partial slicing supported too: [0 1 2 3] [1 2] [0 2 4 6 8] [3 4 5 6 7 8 9]\n"
     ]
    }
   ],
   "source": [
    "a = np.arange(10)\n",
    "print a\n",
    "print \"index the same way as other Python sequences:\", a[0], a[2], a[-1]\n",
    "print \"The usual python slicing works too:\", a[2:9:3] # [start:end:step]\n",
    "print \"The usual python idiom for reversing a sequence is supported:\", a[::-1]\n",
    "print \"partial slicing supported too:\", a[:4], a[1:3], a[::2], a[3:]"
   ]
  },
  {
   "cell_type": "code",
   "execution_count": 60,
   "metadata": {
    "collapsed": false
   },
   "outputs": [
    {
     "name": "stdout",
     "output_type": "stream",
     "text": [
      "[[0 0 0]\n",
      " [0 1 0]\n",
      " [0 0 2]]\n",
      "1\n"
     ]
    }
   ],
   "source": [
    "#echo For multidimensional arrays, indexes are tuples of integers:\n",
    "b = np.diag(np.arange(3))\n",
    "print b\n",
    "print b[1, 1]"
   ]
  },
  {
   "cell_type": "code",
   "execution_count": 61,
   "metadata": {
    "collapsed": false
   },
   "outputs": [
    {
     "name": "stdout",
     "output_type": "stream",
     "text": [
      "[ 0  1  2  3  4 10 10 10 10 10]\n"
     ]
    }
   ],
   "source": [
    "#echo We can also combine assignment and slicing:\n",
    "a[5:] = 10\n",
    "print a"
   ]
  },
  {
   "cell_type": "code",
   "execution_count": 63,
   "metadata": {
    "collapsed": false
   },
   "outputs": [
    {
     "name": "stdout",
     "output_type": "stream",
     "text": [
      "mask is array of boolean: [ True False  True False  True  True  True  True  True  True]\n",
      "get all even values of array: [ 0  2  4 10 10 10 10 10]\n"
     ]
    }
   ],
   "source": [
    "#echo fancy indexing with mask\n",
    "mask = (a%2 == 0)\n",
    "print \"mask is array of boolean:\", mask\n",
    "print \"get all even values of array:\", a[mask]"
   ]
  },
  {
   "cell_type": "code",
   "execution_count": 64,
   "metadata": {
    "collapsed": false
   },
   "outputs": [
    {
     "name": "stdout",
     "output_type": "stream",
     "text": [
      "[2 3 2 4 2]\n"
     ]
    }
   ],
   "source": [
    "#echo indexing with an array of integers\n",
    "print a[[2, 3, 2, 4, 2]]  # note: [2, 3, 2, 4, 2] is a Python list"
   ]
  },
  {
   "cell_type": "markdown",
   "metadata": {},
   "source": [
    "## operation\n",
    "### Elementwise operations"
   ]
  },
  {
   "cell_type": "code",
   "execution_count": 67,
   "metadata": {
    "collapsed": false
   },
   "outputs": [
    {
     "name": "stdout",
     "output_type": "stream",
     "text": [
      "[-1.  0.  1.  2.]\n",
      "[ 2.  4.  6.  8.]\n",
      "[2 3 4 5]\n",
      "[ 2  4  8 16]\n"
     ]
    }
   ],
   "source": [
    "a = np.array([1, 2, 3, 4])\n",
    "b = np.ones(4) + 1\n",
    "print a - b\n",
    "print a * b\n",
    "print a + 1\n",
    "print 2**a"
   ]
  },
  {
   "cell_type": "code",
   "execution_count": 68,
   "metadata": {
    "collapsed": false
   },
   "outputs": [
    {
     "name": "stdout",
     "output_type": "stream",
     "text": [
      "[[ 1.  1.  1.]\n",
      " [ 1.  1.  1.]\n",
      " [ 1.  1.  1.]]\n"
     ]
    }
   ],
   "source": [
    "# 2D or multiple D array also does elementwise operation\n",
    "c = np.ones((3, 3))\n",
    "print c * c"
   ]
  },
  {
   "cell_type": "code",
   "execution_count": 72,
   "metadata": {
    "collapsed": false
   },
   "outputs": [
    {
     "name": "stdout",
     "output_type": "stream",
     "text": [
      "[False  True False  True]\n",
      "False\n",
      "[ True  True  True  True]\n",
      "[ True  True  True  True]\n",
      "[ 0.84147098  0.90929743  0.14112001 -0.7568025 ]\n",
      "[ 0.          0.69314718  1.09861229  1.38629436]\n",
      "[  2.71828183   7.3890561   20.08553692  54.59815003]\n"
     ]
    }
   ],
   "source": [
    "a = np.array([1, 2, 3, 4])\n",
    "b = np.array([4, 2, 2, 4])\n",
    "print a == b\n",
    "print np.array_equal(a,b)\n",
    "print np.logical_or(a, b)\n",
    "print np.logical_and(a, b)\n",
    "print np.sin(a)\n",
    "print np.log(a)\n",
    "print np.exp(a)"
   ]
  },
  {
   "cell_type": "code",
   "execution_count": 75,
   "metadata": {
    "collapsed": false
   },
   "outputs": [
    {
     "name": "stdout",
     "output_type": "stream",
     "text": [
      "[[ 0.  1.  1.]\n",
      " [ 0.  0.  1.]\n",
      " [ 0.  0.  0.]]\n",
      "[[ 0.  0.  0.]\n",
      " [ 1.  0.  0.]\n",
      " [ 1.  1.  0.]]\n"
     ]
    }
   ],
   "source": [
    "# transpose\n",
    "a = np.triu(np.ones((3, 3)), 1) \n",
    "print a\n",
    "print a.T"
   ]
  },
  {
   "cell_type": "markdown",
   "metadata": {},
   "source": [
    "### Reduction\n",
    "sum, min, max, argmin, argmax work same way\n",
    "They all takes no arg or axis=#"
   ]
  },
  {
   "cell_type": "code",
   "execution_count": 76,
   "metadata": {
    "collapsed": false
   },
   "outputs": [
    {
     "name": "stdout",
     "output_type": "stream",
     "text": [
      "10 10\n"
     ]
    }
   ],
   "source": [
    "# 1D\n",
    "x = np.array([1, 2, 3, 4])\n",
    "print np.sum(x), x.sum()"
   ]
  },
  {
   "cell_type": "code",
   "execution_count": 80,
   "metadata": {
    "collapsed": false
   },
   "outputs": [
    {
     "name": "stdout",
     "output_type": "stream",
     "text": [
      "[[1 1]\n",
      " [2 2]]\n",
      "sum along axis=0(1st dimension): [3 3]\n",
      "sum along axis=0(another way): [3, 3]\n",
      "sum along axis=1(2nd dimension): [2 4]\n",
      "sum along axis=1(another way): [2, 4]\n"
     ]
    }
   ],
   "source": [
    "# 2D\n",
    "x = np.array([[1, 1], [2, 2]])\n",
    "print x\n",
    "print \"sum along axis=0(1st dimension):\", x.sum(axis=0)   # columns (first dimension)\n",
    "print \"sum along axis=0(another way):\", [x[:, 0].sum(), x[:, 1].sum()]\n",
    "print \"sum along axis=1(2nd dimension):\", x.sum(axis=1)   # rows (second dimension)\n",
    "print \"sum along axis=1(another way):\", [x[0, :].sum(), x[1, :].sum()]"
   ]
  },
  {
   "cell_type": "code",
   "execution_count": 81,
   "metadata": {
    "collapsed": false
   },
   "outputs": [
    {
     "name": "stdout",
     "output_type": "stream",
     "text": [
      "1.22308632272\n",
      "1.22308632272\n"
     ]
    }
   ],
   "source": [
    "# Same idea in higher dimensions:\n",
    "x = np.random.rand(2, 2, 2)\n",
    "print x.sum(axis=2)[0, 1]     \n",
    "print x[0, 1, :].sum()     "
   ]
  },
  {
   "cell_type": "code",
   "execution_count": 82,
   "metadata": {
    "collapsed": false
   },
   "outputs": [
    {
     "name": "stdout",
     "output_type": "stream",
     "text": [
      "False\n",
      "True\n",
      "False\n",
      "True\n"
     ]
    }
   ],
   "source": [
    "# logical operation\n",
    "print np.all([True, True, False])\n",
    "print np.any([True, True, False])\n",
    "# Note Can be used for array comparisons:\n",
    "a = np.zeros((100, 100))\n",
    "print np.any(a != 0)\n",
    "print np.all(a == a)"
   ]
  },
  {
   "cell_type": "code",
   "execution_count": 83,
   "metadata": {
    "collapsed": false
   },
   "outputs": [
    {
     "name": "stdout",
     "output_type": "stream",
     "text": [
      "1.75 1.5 0.829156197589\n",
      "[ 2.  5.]\n"
     ]
    }
   ],
   "source": [
    "# statistics\n",
    "x = np.array([1, 2, 3, 1])\n",
    "print x.mean(), np.median(x),  x.std()\n",
    "y = np.array([[1, 2, 3], [5, 6, 1]])\n",
    "print np.median(y, axis=-1) # last axis\n"
   ]
  },
  {
   "cell_type": "markdown",
   "metadata": {},
   "source": [
    "### broadcasting\n",
    "http://www.scipy-lectures.org/intro/numpy/operations.html#broadcasting\n",
    "\n",
    "Basic operations on numpy arrays (addition, etc.) are elementwise\n",
    "This works on arrays of the same size.\n",
    "Nevertheless, It’s also possible to do operations on arrays of **different\n",
    "sizes** if NumPy can transform these arrays so that they all have\n",
    "the same size: this conversion is called **broadcasting**."
   ]
  },
  {
   "cell_type": "markdown",
   "metadata": {},
   "source": [
    "### Array shape manipulation\n",
    "http://www.scipy-lectures.org/intro/numpy/operations.html#array-shape-manipulation"
   ]
  },
  {
   "cell_type": "code",
   "execution_count": 85,
   "metadata": {
    "collapsed": false
   },
   "outputs": [
    {
     "name": "stdout",
     "output_type": "stream",
     "text": [
      "[1 2 3 4 5 6]\n",
      "[[1 4]\n",
      " [2 5]\n",
      " [3 6]]\n",
      "[1 4 2 5 3 6]\n"
     ]
    }
   ],
   "source": [
    "# flatening\n",
    "a = np.array([[1, 2, 3], [4, 5, 6]])\n",
    "print a.ravel()\n",
    "print a.T\n",
    "print a.T.ravel()"
   ]
  },
  {
   "cell_type": "code",
   "execution_count": 87,
   "metadata": {
    "collapsed": false
   },
   "outputs": [
    {
     "name": "stdout",
     "output_type": "stream",
     "text": [
      "(2L, 3L)\n",
      "[[1 2 3]\n",
      " [4 5 6]]\n",
      "[[1 2 3]\n",
      " [4 5 6]]\n",
      "[[99  2  3]\n",
      " [ 4  5  6]]\n"
     ]
    }
   ],
   "source": [
    "# reshape\n",
    "print a.shape\n",
    "b = a.ravel()\n",
    "b = b.reshape((2, 3))\n",
    "print b\n",
    "print a.reshape((2, -1))    # unspecified (-1) value is inferred\n",
    "# ndarray.reshape may return a view (cf help(np.reshape))), or copy\n",
    "b[0, 0] = 99\n",
    "print a"
   ]
  },
  {
   "cell_type": "code",
   "execution_count": 88,
   "metadata": {
    "collapsed": false
   },
   "outputs": [
    {
     "name": "stdout",
     "output_type": "stream",
     "text": [
      "[1 2 3]\n",
      "[[1]\n",
      " [2]\n",
      " [3]]\n",
      "[[1 2 3]]\n"
     ]
    }
   ],
   "source": [
    "# add dimention\n",
    "z = np.array([1, 2, 3])\n",
    "print z\n",
    "print z[:, np.newaxis]\n",
    "print z[np.newaxis, :]"
   ]
  },
  {
   "cell_type": "code",
   "execution_count": 90,
   "metadata": {
    "collapsed": false
   },
   "outputs": [
    {
     "name": "stdout",
     "output_type": "stream",
     "text": [
      "(4L, 3L, 2L)\n",
      "5\n",
      "(3L, 2L, 4L)\n",
      "5\n"
     ]
    }
   ],
   "source": [
    "# dimension shuffling\n",
    "a = np.arange(4*3*2).reshape(4, 3, 2)\n",
    "print a.shape\n",
    "print a[0, 2, 1]\n",
    "b = a.transpose(1, 2, 0)\n",
    "print b.shape\n",
    "print b[2, 1, 0]"
   ]
  }
 ],
 "metadata": {
  "anaconda-cloud": {},
  "kernelspec": {
   "display_name": "Python [conda root]",
   "language": "python",
   "name": "conda-root-py"
  },
  "language_info": {
   "codemirror_mode": {
    "name": "ipython",
    "version": 2
   },
   "file_extension": ".py",
   "mimetype": "text/x-python",
   "name": "python",
   "nbconvert_exporter": "python",
   "pygments_lexer": "ipython2",
   "version": "2.7.12"
  }
 },
 "nbformat": 4,
 "nbformat_minor": 0
}
